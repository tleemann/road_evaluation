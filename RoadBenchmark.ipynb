{
 "cells": [
  {
   "cell_type": "markdown",
   "id": "97147543",
   "metadata": {},
   "source": [
    "## A demonstration of the ROAD benchmark"
   ]
  },
  {
   "cell_type": "code",
   "execution_count": 1,
   "id": "9096a28a",
   "metadata": {},
   "outputs": [],
   "source": [
    "%load_ext autoreload\n",
    "%autoreload 2"
   ]
  },
  {
   "cell_type": "code",
   "execution_count": 2,
   "id": "e5d30bc4",
   "metadata": {},
   "outputs": [],
   "source": [
    "import torch\n",
    "import torchvision\n",
    "from torchvision import models as models\n",
    "import torchvision.transforms as transforms\n",
    "from torch import nn as nn\n",
    "import matplotlib.pyplot as plt\n",
    "from tqdm import tqdm"
   ]
  },
  {
   "cell_type": "code",
   "execution_count": 3,
   "id": "1806467a",
   "metadata": {},
   "outputs": [],
   "source": [
    "from utils import load_expl\n",
    "from road import ImputedDataset, set_device, run_road\n",
    "from imputations import NoisyLinearImputer, ChannelMeanImputer, ZeroImputer"
   ]
  },
  {
   "cell_type": "code",
   "execution_count": 4,
   "id": "c723f3c5",
   "metadata": {},
   "outputs": [],
   "source": [
    "set_device(\"cuda:0\")"
   ]
  },
  {
   "cell_type": "code",
   "execution_count": 5,
   "id": "c80c990a",
   "metadata": {},
   "outputs": [],
   "source": [
    "etype=\"base\"\n",
    "group = \"ig\""
   ]
  },
  {
   "cell_type": "markdown",
   "id": "ec74c2da",
   "metadata": {},
   "source": [
    "## Load the explanation maps"
   ]
  },
  {
   "cell_type": "markdown",
   "id": "1690d57b",
   "metadata": {},
   "source": [
    "We provide sample maps for CIFAR 10 that can be loaded on our GoogleDrive for the Integrated Gradients Explanation technique. Please find them at https://drive.google.com/drive/folders/1g0nXL1i1m_s4j-QF7Qx9gkOnxcN0FvBS?usp=sharing.\n",
    "Download the file ``base_test.pkl`` to the folder ``data``."
   ]
  },
  {
   "cell_type": "code",
   "execution_count": 19,
   "id": "18766219",
   "metadata": {},
   "outputs": [],
   "source": [
    "_, explanation_test, _, prediction_test = load_expl(None, './data/base_test.pkl')"
   ]
  },
  {
   "cell_type": "code",
   "execution_count": 20,
   "id": "1503f0f8",
   "metadata": {},
   "outputs": [
    {
     "data": {
      "text/plain": [
       "10000"
      ]
     },
     "execution_count": 20,
     "metadata": {},
     "output_type": "execute_result"
    }
   ],
   "source": [
    "len(explanation_test)"
   ]
  },
  {
   "cell_type": "markdown",
   "id": "9d19d9f2",
   "metadata": {},
   "source": [
    "## Load the trained model"
   ]
  },
  {
   "cell_type": "code",
   "execution_count": 21,
   "id": "b93155f1",
   "metadata": {},
   "outputs": [],
   "source": [
    "model = models.resnet18(pretrained=False)\n",
    "num_ftrs = model.fc.in_features\n",
    "model.fc = nn.Linear(num_ftrs, 10)\n",
    "model = model.cuda()\n",
    "# load trained classifier\n",
    "model.load_state_dict(torch.load('./cifar_8014.pth'))\n",
    "\n",
    "# This transform has to be performed to run this model.\n",
    "transform_test = transforms.Compose([transforms.Normalize((0.5, 0.5, 0.5), (0.5, 0.5, 0.5))])"
   ]
  },
  {
   "cell_type": "code",
   "execution_count": 22,
   "id": "99e54dd5",
   "metadata": {},
   "outputs": [
    {
     "name": "stdout",
     "output_type": "stream",
     "text": [
      "Files already downloaded and verified\n",
      "Files already downloaded and verified\n"
     ]
    }
   ],
   "source": [
    "transform_tensor = torchvision.transforms.Compose([transforms.ToTensor()])\n",
    "cifar_train = torchvision.datasets.CIFAR10(root='./data', train=True, download=True, transform=transform_tensor)\n",
    "cifar_test= torchvision.datasets.CIFAR10(root='./data', train=False, download=True, transform=transform_tensor)"
   ]
  },
  {
   "cell_type": "markdown",
   "id": "8d1318f3",
   "metadata": {},
   "source": [
    "The datasets used should return a tuple of the image (a tensor in channels-first format) and the label (int or single tensor)."
   ]
  },
  {
   "cell_type": "code",
   "execution_count": 23,
   "id": "7b61ee6c",
   "metadata": {},
   "outputs": [
    {
     "name": "stdout",
     "output_type": "stream",
     "text": [
      "Shape of item 0: torch.Size([3, 32, 32])  item 1: 3\n"
     ]
    }
   ],
   "source": [
    "print(\"Shape of item 0:\", cifar_test[0][0].shape, \" item 1:\", cifar_test[0][1])"
   ]
  },
  {
   "cell_type": "markdown",
   "id": "d8af5764",
   "metadata": {},
   "source": [
    "## Example: Set up a modified data set"
   ]
  },
  {
   "cell_type": "markdown",
   "id": "242be34c",
   "metadata": {},
   "source": [
    "Here we set up a data set based on CIFAR 10, with the 70 percent of most important pixels removed"
   ]
  },
  {
   "cell_type": "code",
   "execution_count": 24,
   "id": "ff9a14b1",
   "metadata": {},
   "outputs": [],
   "source": [
    "percentage_imputed = 0.6\n",
    "method_linear = NoisyLinearImputer(noise=0.01)\n",
    "method_fixed = ZeroImputer()\n",
    "ds_test_imputed_lin = ImputedDataset(cifar_test, mask=explanation_test, th_p=percentage_imputed, remove=True, imputation = method_linear)\n",
    "ds_test_imputed_fix = ImputedDataset(cifar_test, mask=explanation_test, th_p=percentage_imputed, remove=True, imputation = method_fixed)"
   ]
  },
  {
   "cell_type": "code",
   "execution_count": 25,
   "id": "3b0d94f2",
   "metadata": {},
   "outputs": [],
   "source": [
    "def show_img(ax, dataset, iid):\n",
    "    x, y, _ = dataset[iid]\n",
    "    ax.imshow((x.transpose(0,1).transpose(1,2)))"
   ]
  },
  {
   "cell_type": "code",
   "execution_count": 26,
   "id": "6099d320",
   "metadata": {},
   "outputs": [
    {
     "data": {
      "text/plain": [
       "Text(0.5, 1.0, 'Fixed Value Imputation')"
      ]
     },
     "execution_count": 26,
     "metadata": {},
     "output_type": "execute_result"
    },
    {
     "data": {
      "image/png": "[encoded data removed]",
      "text/plain": [
       "<Figure size 432x288 with 2 Axes>"
      ]
     },
     "metadata": {
      "needs_background": "light"
     },
     "output_type": "display_data"
    }
   ],
   "source": [
    "# plot an example\n",
    "image_id=6\n",
    "f, (ax1, ax2) = plt.subplots(1, 2)\n",
    "show_img(ax1, ds_test_imputed_lin, image_id)\n",
    "ax1.set_title(\"Linear Imputation\")\n",
    "show_img(ax2, ds_test_imputed_fix, image_id)\n",
    "ax2.set_title(\"Fixed Value Imputation\")"
   ]
  },
  {
   "cell_type": "markdown",
   "id": "7a02c25a",
   "metadata": {},
   "source": [
    "## Run the ROAD Benchmark"
   ]
  },
  {
   "cell_type": "code",
   "execution_count": 27,
   "id": "80ae21dc",
   "metadata": {},
   "outputs": [
    {
     "name": "stdout",
     "output_type": "stream",
     "text": [
      "[0.1, 0.2, 0.3, 0.4, 0.5, 0.7, 0.9]\n"
     ]
    }
   ],
   "source": [
    "# the exact percentages used in our runtime benchmarks. We used the same values for ROAR.\n",
    "percentages = [0.1, 0.2, 0.3, 0.4, 0.5, 0.7, 0.9]\n",
    "print(percentages)"
   ]
  },
  {
   "cell_type": "code",
   "execution_count": 28,
   "id": "5fbfc190",
   "metadata": {},
   "outputs": [
    {
     "name": "stdout",
     "output_type": "stream",
     "text": [
      "Running evaluation for p= 0.1\n",
      "10000 313\n"
     ]
    },
    {
     "name": "stderr",
     "output_type": "stream",
     "text": [
      "100%|██████████| 313/313 [00:03<00:00, 100.38it/s]\n"
     ]
    },
    {
     "name": "stdout",
     "output_type": "stream",
     "text": [
      "Accuracy of the network on test images: 71.4800 %, average probability:  0.0994\n",
      "Running evaluation for p= 0.2\n",
      "10000 313\n"
     ]
    },
    {
     "name": "stderr",
     "output_type": "stream",
     "text": [
      "100%|██████████| 313/313 [00:03<00:00, 97.68it/s] \n"
     ]
    },
    {
     "name": "stdout",
     "output_type": "stream",
     "text": [
      "Accuracy of the network on test images: 66.1500 %, average probability:  0.0977\n",
      "Running evaluation for p= 0.3\n",
      "10000 313\n"
     ]
    },
    {
     "name": "stderr",
     "output_type": "stream",
     "text": [
      "100%|██████████| 313/313 [00:03<00:00, 85.85it/s] \n"
     ]
    },
    {
     "name": "stdout",
     "output_type": "stream",
     "text": [
      "Accuracy of the network on test images: 61.1900 %, average probability:  0.0964\n",
      "Running evaluation for p= 0.4\n",
      "10000 313\n"
     ]
    },
    {
     "name": "stderr",
     "output_type": "stream",
     "text": [
      "100%|██████████| 313/313 [00:04<00:00, 73.37it/s] \n"
     ]
    },
    {
     "name": "stdout",
     "output_type": "stream",
     "text": [
      "Accuracy of the network on test images: 57.1400 %, average probability:  0.0960\n",
      "Running evaluation for p= 0.5\n",
      "10000 313\n"
     ]
    },
    {
     "name": "stderr",
     "output_type": "stream",
     "text": [
      "100%|██████████| 313/313 [00:04<00:00, 67.46it/s]\n"
     ]
    },
    {
     "name": "stdout",
     "output_type": "stream",
     "text": [
      "Accuracy of the network on test images: 53.7600 %, average probability:  0.0936\n",
      "Running evaluation for p= 0.7\n",
      "10000 313\n"
     ]
    },
    {
     "name": "stderr",
     "output_type": "stream",
     "text": [
      "100%|██████████| 313/313 [00:05<00:00, 52.92it/s]\n"
     ]
    },
    {
     "name": "stdout",
     "output_type": "stream",
     "text": [
      "Accuracy of the network on test images: 44.9300 %, average probability:  0.0892\n",
      "Running evaluation for p= 0.9\n",
      "10000 313\n"
     ]
    },
    {
     "name": "stderr",
     "output_type": "stream",
     "text": [
      "100%|██████████| 313/313 [00:07<00:00, 39.84it/s]"
     ]
    },
    {
     "name": "stdout",
     "output_type": "stream",
     "text": [
      "Accuracy of the network on test images: 29.1100 %, average probability:  0.0943\n",
      "CPU times: user 14.1 s, sys: 5.14 s, total: 19.3 s\n",
      "Wall time: 32.7 s\n"
     ]
    },
    {
     "name": "stderr",
     "output_type": "stream",
     "text": [
      "\n"
     ]
    }
   ],
   "source": [
    "%%time\n",
    "accuracies, probs = run_road(model, cifar_test, explanation_test, transform_test, percentages, morf=True, batch_size = 32)"
   ]
  },
  {
   "cell_type": "code",
   "execution_count": 29,
   "id": "94ae9216",
   "metadata": {},
   "outputs": [
    {
     "data": {
      "text/plain": [
       "<matplotlib.legend.Legend at 0x7f8fa8e63130>"
      ]
     },
     "execution_count": 29,
     "metadata": {},
     "output_type": "execute_result"
    },
    {
     "data": {
      "image/png": "[encoded data removed]",
      "text/plain": [
       "<Figure size 432x288 with 1 Axes>"
      ]
     },
     "metadata": {
      "needs_background": "light"
     },
     "output_type": "display_data"
    }
   ],
   "source": [
    "plt.plot(percentages, accuracies, label=\"IG-Base\")\n",
    "plt.xlabel(\"share removed\")\n",
    "plt.ylabel(\"accuracy\")\n",
    "plt.title(\"ROAD plot\")\n",
    "plt.legend()"
   ]
  },
  {
   "cell_type": "code",
   "execution_count": null,
   "id": "df602b65",
   "metadata": {},
   "outputs": [],
   "source": []
  }
 ],
 "metadata": {
  "kernelspec": {
   "display_name": "tobiaspytorch",
   "language": "python",
   "name": "tobiaspytorch"
  },
  "language_info": {
   "codemirror_mode": {
    "name": "ipython",
    "version": 3
   },
   "file_extension": ".py",
   "mimetype": "text/x-python",
   "name": "python",
   "nbconvert_exporter": "python",
   "pygments_lexer": "ipython3",
   "version": "3.8.8"
  }
 },
 "nbformat": 4,
 "nbformat_minor": 5
}
