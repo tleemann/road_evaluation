{
 "cells": [
  {
   "cell_type": "markdown",
   "id": "83ea8514",
   "metadata": {},
   "source": [
    "## A demonstration of the ROAD benchmark"
   ]
  },
  {
   "cell_type": "code",
   "execution_count": 18,
   "id": "0247b56d",
   "metadata": {},
   "outputs": [
    {
     "name": "stdout",
     "output_type": "stream",
     "text": [
      "The autoreload extension is already loaded. To reload it, use:\n",
      "  %reload_ext autoreload\n"
     ]
    }
   ],
   "source": [
    "%load_ext autoreload\n",
    "%autoreload 2"
   ]
  },
  {
   "cell_type": "code",
   "execution_count": 19,
   "id": "7803169c",
   "metadata": {},
   "outputs": [],
   "source": [
    "import torch\n",
    "import torchvision\n",
    "from torchvision import models as models\n",
    "import torchvision.transforms as transforms\n",
    "from torch import nn as nn\n",
    "import matplotlib.pyplot as plt\n",
    "from tqdm import tqdm"
   ]
  },
  {
   "cell_type": "code",
   "execution_count": 38,
   "id": "55b619b5",
   "metadata": {},
   "outputs": [],
   "source": [
    "from utils import load_expl\n",
    "from road import ImputedDataset, set_device, run_road, use_device\n",
    "from imputations import NoisyLinearImputer, ChannelMeanImputer, ZeroImputer"
   ]
  },
  {
   "cell_type": "code",
   "execution_count": 39,
   "id": "434e9879",
   "metadata": {},
   "outputs": [],
   "source": [
    "set_device(\"cpu\")"
   ]
  },
  {
   "cell_type": "code",
   "execution_count": 40,
   "id": "c304eac8",
   "metadata": {},
   "outputs": [],
   "source": [
    "etype=\"base\"\n",
    "group = \"ig\""
   ]
  },
  {
   "cell_type": "markdown",
   "id": "8c2cdae0",
   "metadata": {},
   "source": [
    "## Load the explanation maps"
   ]
  },
  {
   "cell_type": "markdown",
   "id": "8da1e98c",
   "metadata": {},
   "source": [
    "We provide sample maps for CIFAR 10 that can be loaded on our GoogleDrive for the Integrated Gradients Explanation technique. Please find them at https://drive.google.com/drive/folders/1g0nXL1i1m_s4j-QF7Qx9gkOnxcN0FvBS?usp=sharing.\n",
    "Download the file ``base_test.pkl`` to the folder ``data``."
   ]
  },
  {
   "cell_type": "code",
   "execution_count": 41,
   "id": "5dc5aaf9",
   "metadata": {},
   "outputs": [],
   "source": [
    "_, explanation_test, _, prediction_test = load_expl(None, './data/base_test.pkl')"
   ]
  },
  {
   "cell_type": "code",
   "execution_count": 42,
   "id": "f0d74844",
   "metadata": {},
   "outputs": [
    {
     "data": {
      "text/plain": [
       "10000"
      ]
     },
     "execution_count": 42,
     "metadata": {},
     "output_type": "execute_result"
    }
   ],
   "source": [
    "len(explanation_test)"
   ]
  },
  {
   "cell_type": "markdown",
   "id": "947eb186",
   "metadata": {},
   "source": [
    "## Load the trained model"
   ]
  },
  {
   "cell_type": "code",
   "execution_count": 46,
   "id": "8a0a10b3",
   "metadata": {},
   "outputs": [],
   "source": [
    "model = models.resnet18(pretrained=False)\n",
    "num_ftrs = model.fc.in_features\n",
    "model.fc = nn.Linear(num_ftrs, 10)\n",
    "model = model.to(use_device)\n",
    "# load trained classifier\n",
    "model.load_state_dict(torch.load('./cifar_8014.pth', map_location=use_device))\n",
    "\n",
    "# This transform has to be performed to run this model.\n",
    "transform_test = transforms.Compose([transforms.Normalize((0.5, 0.5, 0.5), (0.5, 0.5, 0.5))])"
   ]
  },
  {
   "cell_type": "code",
   "execution_count": 47,
   "id": "845acc7f",
   "metadata": {},
   "outputs": [
    {
     "name": "stdout",
     "output_type": "stream",
     "text": [
      "Files already downloaded and verified\n",
      "Files already downloaded and verified\n"
     ]
    }
   ],
   "source": [
    "transform_tensor = torchvision.transforms.Compose([transforms.ToTensor()])\n",
    "cifar_train = torchvision.datasets.CIFAR10(root='./data', train=True, download=True, transform=transform_tensor)\n",
    "cifar_test= torchvision.datasets.CIFAR10(root='./data', train=False, download=True, transform=transform_tensor)"
   ]
  },
  {
   "cell_type": "markdown",
   "id": "1669926a",
   "metadata": {},
   "source": [
    "The datasets used should return a tuple of the image (a tensor in channels-first format) and the label (int or single tensor)."
   ]
  },
  {
   "cell_type": "code",
   "execution_count": 48,
   "id": "bab2a452",
   "metadata": {},
   "outputs": [
    {
     "name": "stdout",
     "output_type": "stream",
     "text": [
      "Shape of item 0: torch.Size([3, 32, 32])  item 1: 3\n"
     ]
    }
   ],
   "source": [
    "print(\"Shape of item 0:\", cifar_test[0][0].shape, \" item 1:\", cifar_test[0][1])"
   ]
  },
  {
   "cell_type": "markdown",
   "id": "678a8116",
   "metadata": {},
   "source": [
    "## Example: Set up a modified data set"
   ]
  },
  {
   "cell_type": "markdown",
   "id": "c9f52a70",
   "metadata": {},
   "source": [
    "Here we set up a data set based on CIFAR 10, with the 70 percent of most important pixels removed"
   ]
  },
  {
   "cell_type": "code",
   "execution_count": 49,
   "id": "83457aae",
   "metadata": {},
   "outputs": [],
   "source": [
    "percentage_imputed = 0.6\n",
    "method_linear = NoisyLinearImputer(noise=0.01)\n",
    "method_fixed = ZeroImputer()\n",
    "ds_test_imputed_lin = ImputedDataset(cifar_test, mask=explanation_test, th_p=percentage_imputed, remove=True, imputation = method_linear)\n",
    "ds_test_imputed_fix = ImputedDataset(cifar_test, mask=explanation_test, th_p=percentage_imputed, remove=True, imputation = method_fixed)"
   ]
  },
  {
   "cell_type": "code",
   "execution_count": 50,
   "id": "a9df5d27",
   "metadata": {},
   "outputs": [],
   "source": [
    "def show_img(ax, dataset, iid):\n",
    "    x, y, _ = dataset[iid]\n",
    "    ax.imshow((x.transpose(0,1).transpose(1,2)))"
   ]
  },
  {
   "cell_type": "code",
   "execution_count": 51,
   "id": "f069cb1c",
   "metadata": {},
   "outputs": [
    {
     "name": "stderr",
     "output_type": "stream",
     "text": [
      "Clipping input data to the valid range for imshow with RGB data ([0..1] for floats or [0..255] for integers).\n"
     ]
    },
    {
     "data": {
      "text/plain": [
       "Text(0.5, 1.0, 'Fixed Value Imputation')"
      ]
     },
     "execution_count": 51,
     "metadata": {},
     "output_type": "execute_result"
    },
    {
     "data": {
      "image/png": "[encoded data removed]",
      "text/plain": [
       "<Figure size 432x288 with 2 Axes>"
      ]
     },
     "metadata": {
      "needs_background": "light"
     },
     "output_type": "display_data"
    }
   ],
   "source": [
    "# plot an example\n",
    "image_id=6\n",
    "f, (ax1, ax2) = plt.subplots(1, 2)\n",
    "show_img(ax1, ds_test_imputed_lin, image_id)\n",
    "ax1.set_title(\"Linear Imputation\")\n",
    "show_img(ax2, ds_test_imputed_fix, image_id)\n",
    "ax2.set_title(\"Fixed Value Imputation\")"
   ]
  },
  {
   "cell_type": "markdown",
   "id": "0a326cb3",
   "metadata": {},
   "source": [
    "## Run the ROAD Benchmark"
   ]
  },
  {
   "cell_type": "code",
   "execution_count": 52,
   "id": "9d0ec56d",
   "metadata": {},
   "outputs": [
    {
     "name": "stdout",
     "output_type": "stream",
     "text": [
      "[0.1, 0.2, 0.3, 0.4, 0.5, 0.7, 0.9]\n"
     ]
    }
   ],
   "source": [
    "# the exact percentages used in our runtime benchmarks. We used the same values for ROAR.\n",
    "percentages = [0.1, 0.2, 0.3, 0.4, 0.5, 0.7, 0.9]\n",
    "print(percentages)"
   ]
  },
  {
   "cell_type": "code",
   "execution_count": null,
   "id": "bf7bbddf",
   "metadata": {},
   "outputs": [
    {
     "name": "stdout",
     "output_type": "stream",
     "text": [
      "Running evaluation for p= 0.1\n",
      "10000 313\n"
     ]
    },
    {
     "name": "stderr",
     "output_type": "stream",
     "text": [
      "100%|██████████| 313/313 [00:05<00:00, 52.73it/s]\n"
     ]
    },
    {
     "name": "stdout",
     "output_type": "stream",
     "text": [
      "Accuracy of the network on test images: 71.4900 %, average probability:  0.0994\n",
      "Running evaluation for p= 0.2\n",
      "10000 313\n"
     ]
    },
    {
     "name": "stderr",
     "output_type": "stream",
     "text": [
      "100%|██████████| 313/313 [00:05<00:00, 52.91it/s]\n"
     ]
    },
    {
     "name": "stdout",
     "output_type": "stream",
     "text": [
      "Accuracy of the network on test images: 66.0400 %, average probability:  0.0975\n",
      "Running evaluation for p= 0.3\n",
      "10000 313\n"
     ]
    },
    {
     "name": "stderr",
     "output_type": "stream",
     "text": [
      "100%|██████████| 313/313 [00:06<00:00, 51.74it/s]\n"
     ]
    },
    {
     "name": "stdout",
     "output_type": "stream",
     "text": [
      "Accuracy of the network on test images: 61.3300 %, average probability:  0.0966\n",
      "Running evaluation for p= 0.4\n",
      "10000 313\n"
     ]
    },
    {
     "name": "stderr",
     "output_type": "stream",
     "text": [
      "100%|██████████| 313/313 [00:06<00:00, 49.84it/s]\n"
     ]
    },
    {
     "name": "stdout",
     "output_type": "stream",
     "text": [
      "Accuracy of the network on test images: 57.2400 %, average probability:  0.0959\n",
      "Running evaluation for p= 0.5\n",
      "10000 313\n"
     ]
    },
    {
     "name": "stderr",
     "output_type": "stream",
     "text": [
      "100%|██████████| 313/313 [00:06<00:00, 50.02it/s]\n"
     ]
    },
    {
     "name": "stdout",
     "output_type": "stream",
     "text": [
      "Accuracy of the network on test images: 53.9300 %, average probability:  0.0938\n",
      "Running evaluation for p= 0.7\n",
      "10000 313\n"
     ]
    },
    {
     "name": "stderr",
     "output_type": "stream",
     "text": [
      " 39%|███▉      | 123/313 [00:03<00:03, 50.41it/s]"
     ]
    }
   ],
   "source": [
    "%%time\n",
    "accuracies, probs = run_road(model, cifar_test, explanation_test, transform_test, percentages, morf=True, batch_size = 32)"
   ]
  },
  {
   "cell_type": "code",
   "execution_count": 29,
   "id": "7ae1f974",
   "metadata": {},
   "outputs": [
    {
     "data": {
      "text/plain": [
       "<matplotlib.legend.Legend at 0x7f8fa8e63130>"
      ]
     },
     "execution_count": 29,
     "metadata": {},
     "output_type": "execute_result"
    },
    {
     "data": {
      "image/png": "[encoded data removed]",
      "text/plain": [
       "<Figure size 432x288 with 1 Axes>"
      ]
     },
     "metadata": {
      "needs_background": "light"
     },
     "output_type": "display_data"
    }
   ],
   "source": [
    "plt.plot(percentages, accuracies, label=\"IG-Base\")\n",
    "plt.xlabel(\"share removed\")\n",
    "plt.ylabel(\"accuracy\")\n",
    "plt.title(\"ROAD plot\")\n",
    "plt.legend()"
   ]
  },
  {
   "cell_type": "code",
   "execution_count": null,
   "id": "4e299877",
   "metadata": {},
   "outputs": [],
   "source": []
  }
 ],
 "metadata": {
  "kernelspec": {
   "display_name": "tobiaspytorch",
   "language": "python",
   "name": "tobiaspytorch"
  },
  "language_info": {
   "codemirror_mode": {
    "name": "ipython",
    "version": 3
   },
   "file_extension": ".py",
   "mimetype": "text/x-python",
   "name": "python",
   "nbconvert_exporter": "python",
   "pygments_lexer": "ipython3",
   "version": "3.8.8"
  }
 },
 "nbformat": 4,
 "nbformat_minor": 5
}
