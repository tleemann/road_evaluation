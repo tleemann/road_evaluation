{
 "cells": [
  {
   "cell_type": "markdown",
   "id": "3e30db30",
   "metadata": {},
   "source": [
    "# Prediction of imputed pixels"
   ]
  },
  {
   "cell_type": "markdown",
   "id": "24f406c9",
   "metadata": {},
   "source": [
    "Training of the imputation predictor to verify the Mask Information Term.\n",
    "\n",
    "In this notebook we train a simple predictor that shows how hard / easy it is to predict imputed pixels when using different strategies."
   ]
  },
  {
   "cell_type": "code",
   "execution_count": null,
   "id": "7fb2eeca",
   "metadata": {},
   "outputs": [],
   "source": [
    "%load_ext autoreload\n",
    "%autoreload 2"
   ]
  },
  {
   "cell_type": "code",
   "execution_count": 2,
   "id": "5ead20bc",
   "metadata": {},
   "outputs": [],
   "source": [
    "import sys\n",
    "sys.path.append(\"../../\") # Change to main folder to use road package. Alternatively set PYTHONPATH accordingly."
   ]
  },
  {
   "cell_type": "code",
   "execution_count": 3,
   "id": "ffd2e7f7",
   "metadata": {},
   "outputs": [],
   "source": [
    "import torch\n",
    "import torchvision\n",
    "import torchvision.transforms as transforms\n",
    "from torchvision import datasets, models\n",
    "import matplotlib\n",
    "\n",
    "import matplotlib.pyplot as plt\n",
    "import numpy as np\n",
    "import os\n",
    "import torch.nn as nn\n",
    "import torch.nn.functional as F\n",
    "import torch.optim as optim\n",
    "from tqdm import tqdm\n",
    "from PIL import Image\n",
    "\n",
    "from road import ImputedDataset\n",
    "from road.imputations import NoisyLinearImputer, ChannelMeanImputer, ZeroImputer\n",
    "from road.utils import load_expl\n",
    "device=\"cuda:1\""
   ]
  },
  {
   "cell_type": "code",
   "execution_count": 4,
   "id": "fe403a03",
   "metadata": {},
   "outputs": [],
   "source": [
    "from imputation_predict import create_data_sets"
   ]
  },
  {
   "cell_type": "markdown",
   "id": "a4d992e4",
   "metadata": {},
   "source": [
    "## Create train and test sets for original images, linear and fixed value imputation."
   ]
  },
  {
   "cell_type": "code",
   "execution_count": 5,
   "id": "324d5da0",
   "metadata": {},
   "outputs": [
    {
     "name": "stdout",
     "output_type": "stream",
     "text": [
      "Files already downloaded and verified\n",
      "Files already downloaded and verified\n"
     ]
    }
   ],
   "source": [
    "train_set_org, test_set_org = create_data_sets(p=0.3)"
   ]
  },
  {
   "cell_type": "code",
   "execution_count": 6,
   "id": "4f6d7a25",
   "metadata": {},
   "outputs": [],
   "source": [
    "def show_img(ax, x):\n",
    "    ax.imshow((x.transpose(0,1).transpose(1,2)).numpy())"
   ]
  },
  {
   "cell_type": "markdown",
   "id": "f2ba8d5d",
   "metadata": {},
   "source": [
    "Visualize the same sample from each of the data sets."
   ]
  },
  {
   "cell_type": "code",
   "execution_count": 7,
   "id": "ff2cce43",
   "metadata": {},
   "outputs": [
    {
     "name": "stdout",
     "output_type": "stream",
     "text": [
      "torch.Size([3, 32, 32]) torch.Size([32, 32])\n"
     ]
    },
    {
     "data": {
      "image/png": "[encoded data removed]",
      "text/plain": [
       "<Figure size 432x288 with 3 Axes>"
      ]
     },
     "metadata": {
      "needs_background": "light"
     },
     "output_type": "display_data"
    }
   ],
   "source": [
    "data_idx = 5\n",
    "image = train_set_org[data_idx][0]\n",
    "mask = train_set_org[data_idx][3]\n",
    "print(image.shape, mask.shape)\n",
    "f, (ax1, ax2, ax3) = plt.subplots(1,3)\n",
    "show_img(ax1, image)\n",
    "show_img(ax2, ZeroImputer()(image,mask))\n",
    "show_img(ax3, NoisyLinearImputer()(image,mask))\n",
    "plt.show()"
   ]
  },
  {
   "cell_type": "markdown",
   "id": "cf6e89e4",
   "metadata": {},
   "source": [
    "Plot the difference between imputed and original."
   ]
  },
  {
   "cell_type": "markdown",
   "id": "58f6dfda",
   "metadata": {},
   "source": [
    "## Train an imputation predictor"
   ]
  },
  {
   "cell_type": "markdown",
   "id": "3f777c94",
   "metadata": {},
   "source": [
    "We want to train a model that computs whether a pixel is imputed or not."
   ]
  },
  {
   "cell_type": "code",
   "execution_count": 8,
   "id": "d8223658",
   "metadata": {},
   "outputs": [],
   "source": [
    "# The simple imputation predictor network. It has one probabilistic output for each input.\n",
    "from imputation_predict import ImputationPredictor, test_imp_predictor, train_imp_predictor"
   ]
  },
  {
   "cell_type": "markdown",
   "id": "3c9961bc",
   "metadata": {},
   "source": [
    "## Train it for the linear imputation model."
   ]
  },
  {
   "cell_type": "code",
   "execution_count": 26,
   "id": "7aee2a30",
   "metadata": {},
   "outputs": [],
   "source": [
    "batch_size = 24\n",
    "#del trainloader\n",
    "#del testloader\n",
    "trainloader = torch.utils.data.DataLoader(train_set_org, batch_size=batch_size, shuffle=True, num_workers=8)\n",
    "testloader = torch.utils.data.DataLoader(test_set_org, batch_size=batch_size, shuffle=False, num_workers=8)"
   ]
  },
  {
   "cell_type": "code",
   "execution_count": 27,
   "id": "47fd4d8b",
   "metadata": {},
   "outputs": [],
   "source": [
    "imppred = ImputationPredictor(th_p=0.3)"
   ]
  },
  {
   "cell_type": "code",
   "execution_count": 28,
   "id": "ff1faa04",
   "metadata": {},
   "outputs": [],
   "source": [
    "ret = imppred(train_set_org[data_idx][0].unsqueeze(0))"
   ]
  },
  {
   "cell_type": "code",
   "execution_count": 29,
   "id": "40ba3c8b",
   "metadata": {},
   "outputs": [
    {
     "data": {
      "text/plain": [
       "tensor([[[[0.6029, 0.6032, 0.6032,  ..., 0.6031, 0.6031, 0.6031],\n",
       "          [0.6030, 0.6029, 0.6029,  ..., 0.6029, 0.6028, 0.6028],\n",
       "          [0.6030, 0.6029, 0.6028,  ..., 0.6028, 0.6026, 0.6027],\n",
       "          ...,\n",
       "          [0.6034, 0.6035, 0.6035,  ..., 0.6039, 0.6039, 0.6032],\n",
       "          [0.6034, 0.6034, 0.6035,  ..., 0.6040, 0.6040, 0.6033],\n",
       "          [0.6041, 0.6039, 0.6039,  ..., 0.6039, 0.6039, 0.6031]]]],\n",
       "       grad_fn=<SigmoidBackward>)"
      ]
     },
     "execution_count": 29,
     "metadata": {},
     "output_type": "execute_result"
    }
   ],
   "source": [
    "ret"
   ]
  },
  {
   "cell_type": "code",
   "execution_count": 30,
   "id": "df42b6b4",
   "metadata": {},
   "outputs": [],
   "source": [
    "myopt = optim.Adam(imppred.parameters(), lr = 1e-3)"
   ]
  },
  {
   "cell_type": "code",
   "execution_count": null,
   "id": "fee9c589",
   "metadata": {},
   "outputs": [],
   "source": [
    "# Train until loss converges.\n",
    "#my_imputer = NoisyLinearImputer(noise=0.05)\n",
    "my_imputer = ZeroImputer()\n",
    "for epoch in range(20):\n",
    "    imppred = train_imp_predictor(imppred, myopt, trainloader, use_imputation=my_imputer)\n",
    "    if epoch % 2 == 0:\n",
    "        print(\"Test acc:\", test_imp_predictor(imppred, testloader, use_imputation=my_imputer)*100)"
   ]
  },
  {
   "cell_type": "code",
   "execution_count": 33,
   "id": "f911d208",
   "metadata": {},
   "outputs": [
    {
     "name": "stderr",
     "output_type": "stream",
     "text": [
      "100%|██████████| 417/417 [00:01<00:00, 306.81it/s]"
     ]
    },
    {
     "name": "stdout",
     "output_type": "stream",
     "text": [
      "Test acc: 99.828505859375\n"
     ]
    },
    {
     "name": "stderr",
     "output_type": "stream",
     "text": [
      "\n"
     ]
    }
   ],
   "source": [
    "print(\"Test acc:\", test_imp_predictor(imppred, testloader, use_imputation=my_imputer)*100)"
   ]
  },
  {
   "cell_type": "markdown",
   "id": "7c69bddb",
   "metadata": {},
   "source": [
    "### Visualize predictions vs actual imputations."
   ]
  },
  {
   "cell_type": "code",
   "execution_count": 34,
   "id": "ad9bf24f",
   "metadata": {},
   "outputs": [
    {
     "name": "stdout",
     "output_type": "stream",
     "text": [
      "tensor(0.6773)\n",
      "tensor([[[[0.0012, 1.0000, 1.0000,  ..., 0.0012, 1.0000, 1.0000],\n",
      "          [1.0000, 0.9630, 0.0012,  ..., 0.0012, 1.0000, 1.0000],\n",
      "          [1.0000, 0.0012, 0.0012,  ..., 1.0000, 1.0000, 0.0012],\n",
      "          ...,\n",
      "          [0.9575, 0.0012, 0.0012,  ..., 0.9575, 0.9575, 0.0012],\n",
      "          [0.9575, 0.0012, 0.9575,  ..., 0.9575, 0.0012, 0.0012],\n",
      "          [0.9575, 0.9575, 0.0012,  ..., 0.9575, 0.9575, 0.9575]]]])\n"
     ]
    },
    {
     "data": {
      "text/plain": [
       "Text(0.5, 1.0, 'Ground Truth')"
      ]
     },
     "execution_count": 34,
     "metadata": {},
     "output_type": "execute_result"
    },
    {
     "data": {
      "image/png": "[encoded data removed]",
      "text/plain": [
       "<Figure size 432x288 with 2 Axes>"
      ]
     },
     "metadata": {
      "needs_background": "light"
     },
     "output_type": "display_data"
    }
   ],
   "source": [
    "iid=4\n",
    "\n",
    "f, (ax1, ax2) = plt.subplots(1,2)\n",
    "x, _, _, mask = train_set_org[iid]\n",
    "impred = imppred.to(device)\n",
    "res = imppred(my_imputer(x, mask).unsqueeze(0).to(device)-0.5).detach().cpu()\n",
    "print(res.mean())\n",
    "print(res)\n",
    "ax1.imshow((res>0.5).float().squeeze(0).transpose(0,1).transpose(1,2))\n",
    "#ax1.imshow(my_imputer(x, mask).transpose(0,1).transpose(1,2))\n",
    "ax1.set_title(\"Predicted Imputation\")\n",
    "ax2.matshow(mask)\n",
    "ax2.set_title(\"Ground Truth\")"
   ]
  },
  {
   "cell_type": "code",
   "execution_count": 35,
   "id": "859b8cb2",
   "metadata": {},
   "outputs": [
    {
     "name": "stdout",
     "output_type": "stream",
     "text": [
      "1.0\n"
     ]
    }
   ],
   "source": [
    "correct = ((res>0.5) == mask).sum().item()\n",
    "print(correct/np.prod(mask.shape))"
   ]
  },
  {
   "cell_type": "markdown",
   "id": "08099fa7",
   "metadata": {},
   "source": [
    "Please see the script ``imputation_predict.py`` to for the imputation prediction of the predictor for all other imputation methods."
   ]
  },
  {
   "cell_type": "code",
   "execution_count": null,
   "id": "0c9a60b3",
   "metadata": {},
   "outputs": [],
   "source": []
  }
 ],
 "metadata": {
  "kernelspec": {
   "display_name": "tobiaspytorch",
   "language": "python",
   "name": "tobiaspytorch"
  },
  "language_info": {
   "codemirror_mode": {
    "name": "ipython",
    "version": 3
   },
   "file_extension": ".py",
   "mimetype": "text/x-python",
   "name": "python",
   "nbconvert_exporter": "python",
   "pygments_lexer": "ipython3",
   "version": "3.8.8"
  }
 },
 "nbformat": 4,
 "nbformat_minor": 5
}
